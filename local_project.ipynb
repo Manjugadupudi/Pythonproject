{
 "cells": [
  {
   "cell_type": "code",
   "execution_count": null,
   "metadata": {},
   "outputs": [
    {
     "name": "stderr",
     "output_type": "stream",
     "text": [
      "C:\\Users\\iris\\Anaconda3\\lib\\site-packages\\IPython\\core\\interactiveshell.py:2698: DtypeWarning: Columns (39,40,41,42,43,44,45,46,47,59,60,61,62,63,64,65,66) have mixed types. Specify dtype option on import or set low_memory=False.\n",
      "  interactivity=interactivity, compiler=compiler, result=result)\n",
      "C:\\Users\\iris\\Anaconda3\\lib\\site-packages\\IPython\\core\\interactiveshell.py:2698: DtypeWarning: Columns (39,40,41,42,43,44,45,46,47,59,60,61,62,63,64,65,66,67) have mixed types. Specify dtype option on import or set low_memory=False.\n",
      "  interactivity=interactivity, compiler=compiler, result=result)\n",
      "C:\\Users\\iris\\Anaconda3\\lib\\site-packages\\IPython\\core\\interactiveshell.py:2698: DtypeWarning: Columns (39,40,41,42,43,44,45,46,59,60,61,62,63,64,65,66,67) have mixed types. Specify dtype option on import or set low_memory=False.\n",
      "  interactivity=interactivity, compiler=compiler, result=result)\n",
      "C:\\Users\\iris\\Anaconda3\\lib\\site-packages\\IPython\\core\\interactiveshell.py:2698: DtypeWarning: Columns (39,40,41,42,43,44,45,46,59,60,61,62,63,64,65,66) have mixed types. Specify dtype option on import or set low_memory=False.\n",
      "  interactivity=interactivity, compiler=compiler, result=result)\n",
      "C:\\Users\\iris\\Anaconda3\\lib\\site-packages\\IPython\\core\\interactiveshell.py:2698: DtypeWarning: Columns (32,33,34,35,36,37,38,39,40,41,42,43,44,45,46,47,48,52,53,54,55,56,57,58,59,60,61,62,63,64,65,66,67) have mixed types. Specify dtype option on import or set low_memory=False.\n",
      "  interactivity=interactivity, compiler=compiler, result=result)\n",
      "C:\\Users\\iris\\Anaconda3\\lib\\site-packages\\IPython\\core\\interactiveshell.py:2698: DtypeWarning: Columns (40,41,42,43,44,45,46,47,60,61,62,63,64,65,66,67) have mixed types. Specify dtype option on import or set low_memory=False.\n",
      "  interactivity=interactivity, compiler=compiler, result=result)\n",
      "C:\\Users\\iris\\Anaconda3\\lib\\site-packages\\IPython\\core\\interactiveshell.py:2698: DtypeWarning: Columns (40,41,42,43,44,45,46,47,60,61,62,63,64,65,66,67,68) have mixed types. Specify dtype option on import or set low_memory=False.\n",
      "  interactivity=interactivity, compiler=compiler, result=result)\n",
      "C:\\Users\\iris\\Anaconda3\\lib\\site-packages\\IPython\\core\\interactiveshell.py:2698: DtypeWarning: Columns (39,40,41,42,43,60,61,62,63,64,65,66) have mixed types. Specify dtype option on import or set low_memory=False.\n",
      "  interactivity=interactivity, compiler=compiler, result=result)\n"
     ]
    }
   ],
   "source": [
    "import pandas as pd\n",
    "import numpy as np\n",
    "low_memory=False\n",
    "\n",
    "df_2005=pd.read_csv('2005_data.csv')\n",
    "df_2006=pd.read_csv('2006_data.csv')\n",
    "df_2007=pd.read_csv('2007_data.csv')\n",
    "df_2008=pd.read_csv('2008_data.csv')\n",
    "df_2009=pd.read_csv('2009_data.csv')\n",
    "df_2010=pd.read_csv('2010_data.csv')\n",
    "df_2011=pd.read_csv('2011_data.csv')\n",
    "df_2012=pd.read_csv('2012_data.csv')\n",
    "df_2013=pd.read_csv('2013_data.csv')\n",
    "df_2014=pd.read_csv('2014_data.csv')\n",
    "df_2015=pd.read_csv('2015_data.csv')\n",
    "\n",
    "frames=[df_2005,df_2006,df_2007,df_2008,df_2009,df_2010,df_2011,df_2012,df_2013,df_2014,df_2015]\n",
    "\n",
    "data=pd.concat(frames)\n"
   ]
  },
  {
   "cell_type": "code",
   "execution_count": 10,
   "metadata": {},
   "outputs": [
    {
     "name": "stderr",
     "output_type": "stream",
     "text": [
      "C:\\Users\\iris\\Anaconda3\\lib\\site-packages\\IPython\\core\\interactiveshell.py:2698: DtypeWarning: Columns (39,40,41,42,43,44,45,46,47,59,60,61,62,63,64,65,66,67) have mixed types. Specify dtype option on import or set low_memory=False.\n",
      "  interactivity=interactivity, compiler=compiler, result=result)\n"
     ]
    }
   ],
   "source": [
    "df_2005=pd.read_csv('2006_data.csv')"
   ]
  },
  {
   "cell_type": "code",
   "execution_count": 11,
   "metadata": {},
   "outputs": [
    {
     "name": "stdout",
     "output_type": "stream",
     "text": [
      "2430725\n"
     ]
    }
   ],
   "source": [
    "print(len(df_2005))"
   ]
  },
  {
   "cell_type": "code",
   "execution_count": 38,
   "metadata": {},
   "outputs": [
    {
     "name": "stdout",
     "output_type": "stream",
     "text": [
      "men deaths in the dataset: 1210610\n",
      "women deaths in the dataset: 1241896\n"
     ]
    }
   ],
   "source": [
    "s=df_2005['sex']\n",
    "\n",
    "print('men deaths in the dataset:', len(s[s == 'M']))\n",
    "print('women deaths in the dataset:', len(s[s == 'F']))"
   ]
  },
  {
   "cell_type": "code",
   "execution_count": 28,
   "metadata": {},
   "outputs": [
    {
     "name": "stdout",
     "output_type": "stream",
     "text": [
      "209212\n"
     ]
    }
   ],
   "source": [
    "df_filtered = df_2005[df_2005['sex']=='M']\n",
    "#print(len(df_filtered))\n",
    "df_age = df_filtered[df_filtered['detail_age']>=60]\n",
    "df_age\n",
    "df_agee = df_age[df_age['detail_age']<=70]\n",
    "df_agee\n",
    "print(len(df_agee))"
   ]
  },
  {
   "cell_type": "code",
   "execution_count": 30,
   "metadata": {},
   "outputs": [
    {
     "name": "stdout",
     "output_type": "stream",
     "text": [
      "152273\n"
     ]
    }
   ],
   "source": [
    "df_filtered = df_2005[df_2005['sex']=='F']\n",
    "#print(len(df_filtered))\n",
    "df_age = df_filtered[df_filtered['detail_age']>=60]\n",
    "df_age\n",
    "df_agee = df_age[df_age['detail_age']<=70]\n",
    "df_agee\n",
    "print(len(df_agee))"
   ]
  },
  {
   "cell_type": "code",
   "execution_count": 36,
   "metadata": {},
   "outputs": [
    {
     "data": {
      "text/plain": [
       "month_of_death\n",
       "1     226822\n",
       "2     213660\n",
       "3     231486\n",
       "4     205188\n",
       "5     201211\n",
       "6     187732\n",
       "7     191821\n",
       "8     191183\n",
       "9     185855\n",
       "10    198348\n",
       "11    198943\n",
       "12    220257\n",
       "dtype: int64"
      ]
     },
     "execution_count": 36,
     "metadata": {},
     "output_type": "execute_result"
    }
   ],
   "source": [
    "df_month = df_2005['month_of_death']\n",
    "df_2005.groupby('month_of_death').size()"
   ]
  },
  {
   "cell_type": "code",
   "execution_count": null,
   "metadata": {
    "collapsed": true
   },
   "outputs": [],
   "source": []
  }
 ],
 "metadata": {
  "kernelspec": {
   "display_name": "Python 3",
   "language": "python",
   "name": "python3"
  },
  "language_info": {
   "codemirror_mode": {
    "name": "ipython",
    "version": 3
   },
   "file_extension": ".py",
   "mimetype": "text/x-python",
   "name": "python",
   "nbconvert_exporter": "python",
   "pygments_lexer": "ipython3",
   "version": "3.6.2"
  }
 },
 "nbformat": 4,
 "nbformat_minor": 2
}
